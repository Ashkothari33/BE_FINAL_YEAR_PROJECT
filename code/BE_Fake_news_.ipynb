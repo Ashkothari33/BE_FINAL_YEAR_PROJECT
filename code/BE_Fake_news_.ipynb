{
  "nbformat": 4,
  "nbformat_minor": 0,
  "metadata": {
    "colab": {
      "name": "BE_Fake_news_.ipynb",
      "provenance": [],
      "collapsed_sections": []
    },
    "kernelspec": {
      "name": "python3",
      "display_name": "Python 3"
    }
  },
  "cells": [
    {
      "cell_type": "code",
      "metadata": {
        "id": "E3CKA6UfzKzF",
        "colab_type": "code",
        "colab": {
          "base_uri": "https://localhost:8080/",
          "height": 353
        },
        "outputId": "5eebcc2c-7733-4de0-e7d1-b088ba6eb18f"
      },
      "source": [
        "import numpy as np\n",
        "import pandas as pd\n",
        "import json as j\n",
        "import urllib\n",
        "import gzip\n",
        "import nltk\n",
        "\n",
        "\n",
        "\n",
        "nltk.download('stopwords')\n",
        "from nltk.stem import PorterStemmer\n",
        "from sklearn.model_selection import train_test_split\n",
        "!pip install gensim\n",
        "from gensim.models import KeyedVectors\n",
        "from nltk.corpus import stopwords\n",
        "\n",
        "from keras.models import Model\n",
        "from keras.callbacks import EarlyStopping, ModelCheckpoint\n",
        "from keras.layers import Dense, Input, LSTM, Embedding, Dropout, Activation\n",
        "from keras.layers.merge import concatenate\n",
        "from keras.layers.normalization import BatchNormalization\n",
        "from keras.preprocessing import sequence\n",
        "from keras.preprocessing.text import Tokenizer\n",
        "from keras.preprocessing.sequence import pad_sequences\n",
        "from sklearn.naive_bayes import GaussianNB\n",
        "from sklearn.metrics import accuracy_score\n"
      ],
      "execution_count": 1,
      "outputs": [
        {
          "output_type": "stream",
          "text": [
            "[nltk_data] Downloading package stopwords to /root/nltk_data...\n",
            "[nltk_data]   Unzipping corpora/stopwords.zip.\n",
            "Requirement already satisfied: gensim in /usr/local/lib/python3.6/dist-packages (3.6.0)\n",
            "Requirement already satisfied: smart-open>=1.2.1 in /usr/local/lib/python3.6/dist-packages (from gensim) (2.0.0)\n",
            "Requirement already satisfied: scipy>=0.18.1 in /usr/local/lib/python3.6/dist-packages (from gensim) (1.4.1)\n",
            "Requirement already satisfied: six>=1.5.0 in /usr/local/lib/python3.6/dist-packages (from gensim) (1.12.0)\n",
            "Requirement already satisfied: numpy>=1.11.3 in /usr/local/lib/python3.6/dist-packages (from gensim) (1.18.5)\n",
            "Requirement already satisfied: boto3 in /usr/local/lib/python3.6/dist-packages (from smart-open>=1.2.1->gensim) (1.14.2)\n",
            "Requirement already satisfied: requests in /usr/local/lib/python3.6/dist-packages (from smart-open>=1.2.1->gensim) (2.23.0)\n",
            "Requirement already satisfied: boto in /usr/local/lib/python3.6/dist-packages (from smart-open>=1.2.1->gensim) (2.49.0)\n",
            "Requirement already satisfied: botocore<1.18.0,>=1.17.2 in /usr/local/lib/python3.6/dist-packages (from boto3->smart-open>=1.2.1->gensim) (1.17.2)\n",
            "Requirement already satisfied: jmespath<1.0.0,>=0.7.1 in /usr/local/lib/python3.6/dist-packages (from boto3->smart-open>=1.2.1->gensim) (0.10.0)\n",
            "Requirement already satisfied: s3transfer<0.4.0,>=0.3.0 in /usr/local/lib/python3.6/dist-packages (from boto3->smart-open>=1.2.1->gensim) (0.3.3)\n",
            "Requirement already satisfied: idna<3,>=2.5 in /usr/local/lib/python3.6/dist-packages (from requests->smart-open>=1.2.1->gensim) (2.9)\n",
            "Requirement already satisfied: chardet<4,>=3.0.2 in /usr/local/lib/python3.6/dist-packages (from requests->smart-open>=1.2.1->gensim) (3.0.4)\n",
            "Requirement already satisfied: urllib3!=1.25.0,!=1.25.1,<1.26,>=1.21.1 in /usr/local/lib/python3.6/dist-packages (from requests->smart-open>=1.2.1->gensim) (1.24.3)\n",
            "Requirement already satisfied: certifi>=2017.4.17 in /usr/local/lib/python3.6/dist-packages (from requests->smart-open>=1.2.1->gensim) (2020.4.5.2)\n",
            "Requirement already satisfied: docutils<0.16,>=0.10 in /usr/local/lib/python3.6/dist-packages (from botocore<1.18.0,>=1.17.2->boto3->smart-open>=1.2.1->gensim) (0.15.2)\n",
            "Requirement already satisfied: python-dateutil<3.0.0,>=2.1 in /usr/local/lib/python3.6/dist-packages (from botocore<1.18.0,>=1.17.2->boto3->smart-open>=1.2.1->gensim) (2.8.1)\n"
          ],
          "name": "stdout"
        },
        {
          "output_type": "stream",
          "text": [
            "Using TensorFlow backend.\n"
          ],
          "name": "stderr"
        }
      ]
    },
    {
      "cell_type": "code",
      "metadata": {
        "id": "1YHqPJNIzpdt",
        "colab_type": "code",
        "colab": {
          "base_uri": "https://localhost:8080/",
          "height": 586
        },
        "outputId": "1256f0bf-883c-4800-f654-2b44561c4e6f"
      },
      "source": [
        "import re\n",
        "  import string\n",
        "from sklearn.feature_extraction.text import CountVectorizer\n",
        "def clean_text(text):\n",
        "    text = str(text)\n",
        "   \n",
        "    \n",
        "    text =  text.split()\n",
        "    words = []\n",
        "    for word in text:\n",
        "      exclude = set(string.punctuation)\n",
        "      word = ''.join(ch for ch in word if ch not in exclude)\n",
        "      if word in stops:\n",
        "        continue\n",
        "      try: \n",
        "        words.append(ps.stem(word))\n",
        "      except UnicodeDecodeError:\n",
        "        words.append(word)\n",
        "    text = \" \".join(words)\n",
        "    \n",
        "    \n",
        "    return text.lower()\n",
        "\n",
        "\n",
        "#Process data\n",
        "\n",
        "stops = set(stopwords.words(\"english\"))\n",
        "\n",
        "ps = PorterStemmer()\n",
        "\n",
        "dataset = 'https://www.dropbox.com/s/jr4kar4nppqem4n/fake_or_real_news.csv?dl=1'\n",
        "\n",
        "f = pd.read_csv(dataset)  \n",
        "\n",
        "f.label = f.label.map(dict(REAL=1, FAKE=0))\n",
        "\n",
        "f"
      ],
      "execution_count": null,
      "outputs": [
        {
          "output_type": "execute_result",
          "data": {
            "text/html": [
              "<div>\n",
              "<style scoped>\n",
              "    .dataframe tbody tr th:only-of-type {\n",
              "        vertical-align: middle;\n",
              "    }\n",
              "\n",
              "    .dataframe tbody tr th {\n",
              "        vertical-align: top;\n",
              "    }\n",
              "\n",
              "    .dataframe thead th {\n",
              "        text-align: right;\n",
              "    }\n",
              "</style>\n",
              "<table border=\"1\" class=\"dataframe\">\n",
              "  <thead>\n",
              "    <tr style=\"text-align: right;\">\n",
              "      <th></th>\n",
              "      <th>Unnamed: 0</th>\n",
              "      <th>title</th>\n",
              "      <th>text</th>\n",
              "      <th>label</th>\n",
              "    </tr>\n",
              "  </thead>\n",
              "  <tbody>\n",
              "    <tr>\n",
              "      <th>0</th>\n",
              "      <td>8476</td>\n",
              "      <td>You Can Smell Hillary’s Fear</td>\n",
              "      <td>Daniel Greenfield, a Shillman Journalism Fello...</td>\n",
              "      <td>0</td>\n",
              "    </tr>\n",
              "    <tr>\n",
              "      <th>1</th>\n",
              "      <td>10294</td>\n",
              "      <td>Watch The Exact Moment Paul Ryan Committed Pol...</td>\n",
              "      <td>Google Pinterest Digg Linkedin Reddit Stumbleu...</td>\n",
              "      <td>0</td>\n",
              "    </tr>\n",
              "    <tr>\n",
              "      <th>2</th>\n",
              "      <td>3608</td>\n",
              "      <td>Kerry to go to Paris in gesture of sympathy</td>\n",
              "      <td>U.S. Secretary of State John F. Kerry said Mon...</td>\n",
              "      <td>1</td>\n",
              "    </tr>\n",
              "    <tr>\n",
              "      <th>3</th>\n",
              "      <td>10142</td>\n",
              "      <td>Bernie supporters on Twitter erupt in anger ag...</td>\n",
              "      <td>— Kaydee King (@KaydeeKing) November 9, 2016 T...</td>\n",
              "      <td>0</td>\n",
              "    </tr>\n",
              "    <tr>\n",
              "      <th>4</th>\n",
              "      <td>875</td>\n",
              "      <td>The Battle of New York: Why This Primary Matters</td>\n",
              "      <td>It's primary day in New York and front-runners...</td>\n",
              "      <td>1</td>\n",
              "    </tr>\n",
              "    <tr>\n",
              "      <th>...</th>\n",
              "      <td>...</td>\n",
              "      <td>...</td>\n",
              "      <td>...</td>\n",
              "      <td>...</td>\n",
              "    </tr>\n",
              "    <tr>\n",
              "      <th>6330</th>\n",
              "      <td>4490</td>\n",
              "      <td>State Department says it can't find emails fro...</td>\n",
              "      <td>The State Department told the Republican Natio...</td>\n",
              "      <td>1</td>\n",
              "    </tr>\n",
              "    <tr>\n",
              "      <th>6331</th>\n",
              "      <td>8062</td>\n",
              "      <td>The ‘P’ in PBS Should Stand for ‘Plutocratic’ ...</td>\n",
              "      <td>The ‘P’ in PBS Should Stand for ‘Plutocratic’ ...</td>\n",
              "      <td>0</td>\n",
              "    </tr>\n",
              "    <tr>\n",
              "      <th>6332</th>\n",
              "      <td>8622</td>\n",
              "      <td>Anti-Trump Protesters Are Tools of the Oligarc...</td>\n",
              "      <td>Anti-Trump Protesters Are Tools of the Oligar...</td>\n",
              "      <td>0</td>\n",
              "    </tr>\n",
              "    <tr>\n",
              "      <th>6333</th>\n",
              "      <td>4021</td>\n",
              "      <td>In Ethiopia, Obama seeks progress on peace, se...</td>\n",
              "      <td>ADDIS ABABA, Ethiopia —President Obama convene...</td>\n",
              "      <td>1</td>\n",
              "    </tr>\n",
              "    <tr>\n",
              "      <th>6334</th>\n",
              "      <td>4330</td>\n",
              "      <td>Jeb Bush Is Suddenly Attacking Trump. Here's W...</td>\n",
              "      <td>Jeb Bush Is Suddenly Attacking Trump. Here's W...</td>\n",
              "      <td>1</td>\n",
              "    </tr>\n",
              "  </tbody>\n",
              "</table>\n",
              "<p>6335 rows × 4 columns</p>\n",
              "</div>"
            ],
            "text/plain": [
              "      Unnamed: 0  ... label\n",
              "0           8476  ...     0\n",
              "1          10294  ...     0\n",
              "2           3608  ...     1\n",
              "3          10142  ...     0\n",
              "4            875  ...     1\n",
              "...          ...  ...   ...\n",
              "6330        4490  ...     1\n",
              "6331        8062  ...     0\n",
              "6332        8622  ...     0\n",
              "6333        4021  ...     1\n",
              "6334        4330  ...     1\n",
              "\n",
              "[6335 rows x 4 columns]"
            ]
          },
          "metadata": {
            "tags": []
          },
          "execution_count": 74
        }
      ]
    },
    {
      "cell_type": "code",
      "metadata": {
        "id": "2ouPPemH0CI7",
        "colab_type": "code",
        "colab": {
          "base_uri": "https://localhost:8080/",
          "height": 34
        },
        "outputId": "750250dc-b944-4dea-833d-6af717d9cbd8"
      },
      "source": [
        "f = f[1:100]\n",
        "\n",
        "X_train, X_test, y_train, y_test = train_test_split(f['title'], f.label, test_size=0.2)\n",
        "\n",
        "X_cleaned_train = [clean_text(x) for x in X_train]\n",
        "\n",
        "X_cleaned_test = [clean_text(x) for x in X_test]\n",
        "\n",
        "\n",
        "\n",
        "X_cleaned_train[0]\n",
        "\n"
      ],
      "execution_count": null,
      "outputs": [
        {
          "output_type": "execute_result",
          "data": {
            "text/plain": [
              "'donald trump hillari clinton caus tremend death'"
            ]
          },
          "metadata": {
            "tags": []
          },
          "execution_count": 81
        }
      ]
    },
    {
      "cell_type": "code",
      "metadata": {
        "id": "SJmtCwnw0KyO",
        "colab_type": "code",
        "colab": {
          "base_uri": "https://localhost:8080/",
          "height": 70
        },
        "outputId": "b24931c4-0265-428e-b132-244785b0f38c"
      },
      "source": [
        "import tokenize\n",
        "from keras.preprocessing.text import Tokenizer\n",
        "\n",
        "MAX_NB_WORDS = 20000\n",
        "tokenizer = Tokenizer(num_words=MAX_NB_WORDS)\n",
        "tokenizer.fit_on_texts(X_cleaned_train + X_cleaned_test)\n",
        "print('Finished Building Tokenizer')\n",
        "\n",
        "train_sequence = tokenizer.texts_to_sequences(X_cleaned_train)\n",
        "print('Finished Tokenizing Training')\n",
        "\n",
        "test_sequence = tokenizer.texts_to_sequences(X_cleaned_test)\n",
        "print('Finished Tokenizing test')\n",
        "\n"
      ],
      "execution_count": null,
      "outputs": [
        {
          "output_type": "stream",
          "text": [
            "Finished Building Tokenizer\n",
            "Finished Tokenizing Training\n",
            "Finished Tokenizing test\n"
          ],
          "name": "stdout"
        }
      ]
    },
    {
      "cell_type": "code",
      "metadata": {
        "id": "zX-xU1dZ0s6K",
        "colab_type": "code",
        "colab": {
          "base_uri": "https://localhost:8080/",
          "height": 90
        },
        "outputId": "90e79d47-0b00-4007-b334-53ed90d4e3d5"
      },
      "source": [
        "from gensim.models import KeyedVectors\n",
        "EMBEDDING_FILE = 'https://s3.amazonaws.com/dl4j-distribution/GoogleNews-vectors-negative300.bin.gz'\n",
        "word2vec = KeyedVectors.load_word2vec_format(EMBEDDING_FILE, binary=True)\n",
        "word_index = tokenizer.word_index\n",
        "print('Found %s unique tokens' % len(word_index))\n",
        "\n",
        "nb_words = min(20000, len(word_index))\n",
        "\n",
        "embedding_matrix = np.zeros((nb_words, 300))\n",
        "\n",
        "\n",
        "for word, i in word_index.items():\n",
        "    try:\n",
        "      embedding_vector = word2vec.word_vec(word)\n",
        "      if embedding_vector is not None and i < 7000:\n",
        "        embedding_matrix[i] = embedding_vector\n",
        "    except (KeyError, IndexError) as e:\n",
        "      continue"
      ],
      "execution_count": null,
      "outputs": [
        {
          "output_type": "stream",
          "text": [
            "/usr/local/lib/python3.6/dist-packages/smart_open/smart_open_lib.py:402: UserWarning: This function is deprecated, use smart_open.open instead. See the migration notes for details: https://github.com/RaRe-Technologies/smart_open/blob/master/README.rst#migrating-to-the-new-open-function\n",
            "  'See the migration notes for details: %s' % _MIGRATION_NOTES_URL\n"
          ],
          "name": "stderr"
        },
        {
          "output_type": "stream",
          "text": [
            "Found 606 unique tokens\n"
          ],
          "name": "stdout"
        }
      ]
    },
    {
      "cell_type": "code",
      "metadata": {
        "id": "Lm-3ppmR02EL",
        "colab_type": "code",
        "colab": {
          "base_uri": "https://localhost:8080/",
          "height": 1000
        },
        "outputId": "31d2478e-e599-403d-e454-abd6d009fe69"
      },
      "source": [
        "from keras.models import Sequential\n",
        "\n",
        "from keras.layers import Dense, LSTM, Dropout, Conv1D, MaxPooling1D\n",
        "from keras.layers.embeddings import Embedding\n",
        "from keras.preprocessing import sequence\n",
        "from keras.preprocessing.sequence import pad_sequences\n",
        "\n",
        "kVECTORLEN = 60\n",
        "\n",
        "model = Sequential()\n",
        "model.add(Embedding(5000, 500, input_length=50))\n",
        "model.add(LSTM(125))\n",
        "model.add(Dropout(0.4))\n",
        "model.add(Dense(1, activation='relu'))\n",
        "#model.add(Dense(1, activation='sigmoid'))\n",
        "model.compile(loss='binary_crossentropy', optimizer='adam', metrics=['accuracy'])\n",
        "\n",
        "print(model.summary())\n",
        "\n",
        "\n",
        "#test_sequence\n",
        "\n",
        "train_sequence = sequence.pad_sequences(train_sequence, maxlen=50)\n",
        "test_sequence = sequence.pad_sequences(test_sequence, maxlen=50)\n",
        "\n",
        "\n",
        "history = model.fit(train_sequence, y_train, validation_data=(test_sequence, y_test), epochs=20, batch_size=64)"
      ],
      "execution_count": null,
      "outputs": [
        {
          "output_type": "stream",
          "text": [
            "Model: \"sequential_23\"\n",
            "_________________________________________________________________\n",
            "Layer (type)                 Output Shape              Param #   \n",
            "=================================================================\n",
            "embedding_23 (Embedding)     (None, 50, 500)           2500000   \n",
            "_________________________________________________________________\n",
            "lstm_23 (LSTM)               (None, 125)               313000    \n",
            "_________________________________________________________________\n",
            "dropout_23 (Dropout)         (None, 125)               0         \n",
            "_________________________________________________________________\n",
            "dense_23 (Dense)             (None, 1)                 126       \n",
            "=================================================================\n",
            "Total params: 2,813,126\n",
            "Trainable params: 2,813,126\n",
            "Non-trainable params: 0\n",
            "_________________________________________________________________\n",
            "None\n",
            "Train on 79 samples, validate on 20 samples\n",
            "Epoch 1/20\n",
            "79/79 [==============================] - 7s 85ms/step - loss: 5.2745 - acc: 0.4304 - val_loss: 1.5278 - val_acc: 0.4000\n",
            "Epoch 2/20\n",
            "79/79 [==============================] - 0s 6ms/step - loss: 1.2673 - acc: 0.4304 - val_loss: 1.0352 - val_acc: 0.4000\n",
            "Epoch 3/20\n",
            "79/79 [==============================] - 0s 6ms/step - loss: 0.8297 - acc: 0.4430 - val_loss: 0.6875 - val_acc: 0.5000\n",
            "Epoch 4/20\n",
            "79/79 [==============================] - 1s 6ms/step - loss: 0.7202 - acc: 0.7215 - val_loss: 2.1060 - val_acc: 0.6000\n",
            "Epoch 5/20\n",
            "79/79 [==============================] - 1s 7ms/step - loss: 1.8007 - acc: 0.6962 - val_loss: 1.4622 - val_acc: 0.6000\n",
            "Epoch 6/20\n",
            "79/79 [==============================] - 1s 7ms/step - loss: 1.1738 - acc: 0.7595 - val_loss: 0.6046 - val_acc: 0.7000\n",
            "Epoch 7/20\n",
            "79/79 [==============================] - 1s 6ms/step - loss: 0.7763 - acc: 0.8481 - val_loss: 0.6743 - val_acc: 0.4500\n",
            "Epoch 8/20\n",
            "79/79 [==============================] - 0s 6ms/step - loss: 0.4099 - acc: 0.8101 - val_loss: 0.7370 - val_acc: 0.4500\n",
            "Epoch 9/20\n",
            "79/79 [==============================] - 0s 6ms/step - loss: 0.4496 - acc: 0.7595 - val_loss: 0.7662 - val_acc: 0.4500\n",
            "Epoch 10/20\n",
            "79/79 [==============================] - 0s 6ms/step - loss: 0.4335 - acc: 0.7595 - val_loss: 0.7626 - val_acc: 0.4500\n",
            "Epoch 11/20\n",
            "79/79 [==============================] - 0s 6ms/step - loss: 0.4204 - acc: 0.7722 - val_loss: 0.7349 - val_acc: 0.4500\n",
            "Epoch 12/20\n",
            "79/79 [==============================] - 1s 6ms/step - loss: 0.3633 - acc: 0.8481 - val_loss: 0.6927 - val_acc: 0.4500\n",
            "Epoch 13/20\n",
            "79/79 [==============================] - 0s 6ms/step - loss: 0.2951 - acc: 0.9620 - val_loss: 0.6452 - val_acc: 0.5500\n",
            "Epoch 14/20\n",
            "79/79 [==============================] - 1s 6ms/step - loss: 0.2306 - acc: 0.9873 - val_loss: 0.6014 - val_acc: 0.7000\n",
            "Epoch 15/20\n",
            "79/79 [==============================] - 1s 7ms/step - loss: 0.1624 - acc: 0.9873 - val_loss: 0.5696 - val_acc: 0.7500\n",
            "Epoch 16/20\n",
            "79/79 [==============================] - 1s 7ms/step - loss: 0.1291 - acc: 0.9620 - val_loss: 0.5704 - val_acc: 0.7000\n",
            "Epoch 17/20\n",
            "79/79 [==============================] - 0s 6ms/step - loss: 0.1270 - acc: 0.9241 - val_loss: 0.5811 - val_acc: 0.7000\n",
            "Epoch 18/20\n",
            "79/79 [==============================] - 0s 6ms/step - loss: 0.0929 - acc: 0.8861 - val_loss: 0.5797 - val_acc: 0.7000\n",
            "Epoch 19/20\n",
            "79/79 [==============================] - 0s 6ms/step - loss: 0.0645 - acc: 0.9620 - val_loss: 0.5704 - val_acc: 0.7000\n",
            "Epoch 20/20\n",
            "79/79 [==============================] - 0s 6ms/step - loss: 0.0531 - acc: 0.9494 - val_loss: 0.5600 - val_acc: 0.7500\n"
          ],
          "name": "stdout"
        }
      ]
    },
    {
      "cell_type": "code",
      "metadata": {
        "id": "m5PCfz2x1125",
        "colab_type": "code",
        "colab": {
          "base_uri": "https://localhost:8080/",
          "height": 34
        },
        "outputId": "0d455490-fc44-4789-aecc-bdb4c65defbe"
      },
      "source": [
        "scores = model.evaluate(test_sequence, y_test, verbose=0)\n",
        "accuracy = (scores[1]*100)\n",
        "\n",
        "print(\"Accuracy: {:.2f}%\".format(scores[1]*100))\n",
        "\n"
      ],
      "execution_count": null,
      "outputs": [
        {
          "output_type": "stream",
          "text": [
            "Accuracy: 75.00%\n"
          ],
          "name": "stdout"
        }
      ]
    },
    {
      "cell_type": "code",
      "metadata": {
        "id": "5F1ocbgb3azC",
        "colab_type": "code",
        "colab": {
          "base_uri": "https://localhost:8080/",
          "height": 295
        },
        "outputId": "fa14d27e-12ef-42dc-8b4b-18060ca7c9e1"
      },
      "source": [
        "import matplotlib.pyplot as plt\n",
        "\n",
        "plt.plot(history.history['acc'])\n",
        "plt.plot(history.history['val_acc'])\n",
        "plt.title('model accuracy')\n",
        "plt.ylabel('accuracy')\n",
        "plt.xlabel('epoch')\n",
        "plt.legend(['train', 'validation'], loc='upper left')\n",
        "plt.show()"
      ],
      "execution_count": null,
      "outputs": [
        {
          "output_type": "display_data",
          "data": {
            "image/png": "[encoded data removed]",
            "text/plain": [
              "<Figure size 432x288 with 1 Axes>"
            ]
          },
          "metadata": {
            "tags": []
          }
        }
      ]
    },
    {
      "cell_type": "code",
      "metadata": {
        "colab_type": "code",
        "id": "r47Vd-AvBnEO",
        "colab": {}
      },
      "source": [
        ""
      ],
      "execution_count": null,
      "outputs": []
    }
  ]
}